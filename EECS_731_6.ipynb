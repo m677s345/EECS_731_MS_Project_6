{
  "nbformat": 4,
  "nbformat_minor": 0,
  "metadata": {
    "colab": {
      "name": "EECS_731_6.ipynb",
      "provenance": [],
      "authorship_tag": "ABX9TyPjJmn/ifyoJsu7kduh0fDp",
      "include_colab_link": true
    },
    "kernelspec": {
      "name": "python3",
      "display_name": "Python 3"
    }
  },
  "cells": [
    {
      "cell_type": "markdown",
      "metadata": {
        "id": "view-in-github",
        "colab_type": "text"
      },
      "source": [
        "<a href=\"https://colab.research.google.com/github/m677s345/EECS_731_MS_Project_6/blob/main/EECS_731_6.ipynb\" target=\"_parent\"><img src=\"https://colab.research.google.com/assets/colab-badge.svg\" alt=\"Open In Colab\"/></a>"
      ]
    },
    {
      "cell_type": "code",
      "metadata": {
        "id": "uUnxk51bCJOX",
        "outputId": "61fec8ff-9e83-4cfe-f456-f845f5bc6218",
        "colab": {
          "base_uri": "https://localhost:8080/",
          "height": 714
        }
      },
      "source": [
        "!pip install cookiecutter\n",
        "!cookiecutter https://github.com/drivendata/cookiecutter-data-science"
      ],
      "execution_count": 2,
      "outputs": [
        {
          "output_type": "stream",
          "text": [
            "Collecting cookiecutter\n",
            "  Downloading https://files.pythonhosted.org/packages/95/83/83ebf950ec99b02c61719ccb116462844ba2e873df7c4d40afc962494312/cookiecutter-1.7.2-py2.py3-none-any.whl\n",
            "Collecting jinja2-time>=0.2.0\n",
            "  Downloading https://files.pythonhosted.org/packages/6a/a1/d44fa38306ffa34a7e1af09632b158e13ec89670ce491f8a15af3ebcb4e4/jinja2_time-0.2.0-py2.py3-none-any.whl\n",
            "Requirement already satisfied: requests>=2.23.0 in /usr/local/lib/python3.6/dist-packages (from cookiecutter) (2.23.0)\n",
            "Requirement already satisfied: python-slugify>=4.0.0 in /usr/local/lib/python3.6/dist-packages (from cookiecutter) (4.0.1)\n",
            "Requirement already satisfied: six>=1.10 in /usr/local/lib/python3.6/dist-packages (from cookiecutter) (1.15.0)\n",
            "Requirement already satisfied: MarkupSafe<2.0.0 in /usr/local/lib/python3.6/dist-packages (from cookiecutter) (1.1.1)\n",
            "Requirement already satisfied: Jinja2<3.0.0 in /usr/local/lib/python3.6/dist-packages (from cookiecutter) (2.11.2)\n",
            "Collecting poyo>=0.5.0\n",
            "  Downloading https://files.pythonhosted.org/packages/42/50/0b0820601bde2eda403f47b9a4a1f270098ed0dd4c00c443d883164bdccc/poyo-0.5.0-py2.py3-none-any.whl\n",
            "Requirement already satisfied: click>=7.0 in /usr/local/lib/python3.6/dist-packages (from cookiecutter) (7.1.2)\n",
            "Collecting binaryornot>=0.4.4\n",
            "  Downloading https://files.pythonhosted.org/packages/24/7e/f7b6f453e6481d1e233540262ccbfcf89adcd43606f44a028d7f5fae5eb2/binaryornot-0.4.4-py2.py3-none-any.whl\n",
            "Collecting arrow\n",
            "\u001b[?25l  Downloading https://files.pythonhosted.org/packages/ca/bc/ebc1afb3c54377e128a01024c006f983d03ee124bc52392b78ba98c421b8/arrow-0.17.0-py2.py3-none-any.whl (50kB)\n",
            "\u001b[K     |████████████████████████████████| 51kB 2.9MB/s \n",
            "\u001b[?25hRequirement already satisfied: urllib3!=1.25.0,!=1.25.1,<1.26,>=1.21.1 in /usr/local/lib/python3.6/dist-packages (from requests>=2.23.0->cookiecutter) (1.24.3)\n",
            "Requirement already satisfied: idna<3,>=2.5 in /usr/local/lib/python3.6/dist-packages (from requests>=2.23.0->cookiecutter) (2.10)\n",
            "Requirement already satisfied: chardet<4,>=3.0.2 in /usr/local/lib/python3.6/dist-packages (from requests>=2.23.0->cookiecutter) (3.0.4)\n",
            "Requirement already satisfied: certifi>=2017.4.17 in /usr/local/lib/python3.6/dist-packages (from requests>=2.23.0->cookiecutter) (2020.6.20)\n",
            "Requirement already satisfied: text-unidecode>=1.3 in /usr/local/lib/python3.6/dist-packages (from python-slugify>=4.0.0->cookiecutter) (1.3)\n",
            "Requirement already satisfied: python-dateutil>=2.7.0 in /usr/local/lib/python3.6/dist-packages (from arrow->jinja2-time>=0.2.0->cookiecutter) (2.8.1)\n",
            "Installing collected packages: arrow, jinja2-time, poyo, binaryornot, cookiecutter\n",
            "Successfully installed arrow-0.17.0 binaryornot-0.4.4 cookiecutter-1.7.2 jinja2-time-0.2.0 poyo-0.5.0\n",
            "project_name [project_name]: \n",
            "repo_name [project_name]: \n",
            "author_name [Your name (or your organization/company/team)]: \n",
            "description [A short description of the project.]: \n",
            "Select open_source_license:\n",
            "1 - MIT\n",
            "2 - BSD-3-Clause\n",
            "3 - No license file\n",
            "Choose from 1, 2, 3 [1]: \n",
            "s3_bucket [[OPTIONAL] your-bucket-for-syncing-data (do not include 's3://')]: \n",
            "aws_profile [default]: \n",
            "Select python_interpreter:\n",
            "1 - python3\n",
            "2 - python\n",
            "Choose from 1, 2 [1]: \n",
            "\n"
          ],
          "name": "stdout"
        }
      ]
    },
    {
      "cell_type": "code",
      "metadata": {
        "id": "44nP-0UmC0m8"
      },
      "source": [
        "# libraries\n",
        "#%matplotlib notebook\n",
        "\n",
        "import pandas as pd\n",
        "import numpy as np\n",
        "from sklearn import svm\n",
        "import matplotlib\n",
        "import seaborn\n",
        "import matplotlib.dates as md\n",
        "from matplotlib import pyplot as plt\n",
        "from sklearn import preprocessing\n",
        "#from pyemma import msm # not available on Kaggle Kernel\n",
        "from sklearn.ensemble import IsolationForest\n",
        "from sklearn.svm import OneClassSVM"
      ],
      "execution_count": 14,
      "outputs": []
    },
    {
      "cell_type": "code",
      "metadata": {
        "id": "2Zqnm4VpC7pG"
      },
      "source": [
        "df = pd.read_csv(\"/content/project_name/data/raw/ambient_temperature_system_failure.csv\")"
      ],
      "execution_count": 4,
      "outputs": []
    },
    {
      "cell_type": "markdown",
      "metadata": {
        "id": "5R4KxwO-N291"
      },
      "source": [
        "# Data Visualization and Feature Engineering"
      ]
    },
    {
      "cell_type": "markdown",
      "metadata": {
        "id": "2PrB9KLfOLXA"
      },
      "source": [
        "Just doing some statistcis on the data we can see that for the most part the temperature stays within 4 degrees of the average. The max and min are definatly going to be anomilies to look for in the anomally detection."
      ]
    },
    {
      "cell_type": "code",
      "metadata": {
        "id": "rClEWq1gDCB-",
        "outputId": "93004369-cd1f-41e2-8498-966a46e22b78",
        "colab": {
          "base_uri": "https://localhost:8080/",
          "height": 527
        }
      },
      "source": [
        "print(df.info())\n",
        "print(df.describe())\n",
        "df.head()"
      ],
      "execution_count": 5,
      "outputs": [
        {
          "output_type": "stream",
          "text": [
            "<class 'pandas.core.frame.DataFrame'>\n",
            "RangeIndex: 7267 entries, 0 to 7266\n",
            "Data columns (total 2 columns):\n",
            " #   Column     Non-Null Count  Dtype  \n",
            "---  ------     --------------  -----  \n",
            " 0   timestamp  7267 non-null   object \n",
            " 1   value      7267 non-null   float64\n",
            "dtypes: float64(1), object(1)\n",
            "memory usage: 113.7+ KB\n",
            "None\n",
            "             value\n",
            "count  7267.000000\n",
            "mean     71.242433\n",
            "std       4.247509\n",
            "min      57.458406\n",
            "25%      68.369411\n",
            "50%      71.858493\n",
            "75%      74.430958\n",
            "max      86.223213\n"
          ],
          "name": "stdout"
        },
        {
          "output_type": "execute_result",
          "data": {
            "text/html": [
              "<div>\n",
              "<style scoped>\n",
              "    .dataframe tbody tr th:only-of-type {\n",
              "        vertical-align: middle;\n",
              "    }\n",
              "\n",
              "    .dataframe tbody tr th {\n",
              "        vertical-align: top;\n",
              "    }\n",
              "\n",
              "    .dataframe thead th {\n",
              "        text-align: right;\n",
              "    }\n",
              "</style>\n",
              "<table border=\"1\" class=\"dataframe\">\n",
              "  <thead>\n",
              "    <tr style=\"text-align: right;\">\n",
              "      <th></th>\n",
              "      <th>timestamp</th>\n",
              "      <th>value</th>\n",
              "    </tr>\n",
              "  </thead>\n",
              "  <tbody>\n",
              "    <tr>\n",
              "      <th>0</th>\n",
              "      <td>2013-07-04 00:00:00</td>\n",
              "      <td>69.880835</td>\n",
              "    </tr>\n",
              "    <tr>\n",
              "      <th>1</th>\n",
              "      <td>2013-07-04 01:00:00</td>\n",
              "      <td>71.220227</td>\n",
              "    </tr>\n",
              "    <tr>\n",
              "      <th>2</th>\n",
              "      <td>2013-07-04 02:00:00</td>\n",
              "      <td>70.877805</td>\n",
              "    </tr>\n",
              "    <tr>\n",
              "      <th>3</th>\n",
              "      <td>2013-07-04 03:00:00</td>\n",
              "      <td>68.959400</td>\n",
              "    </tr>\n",
              "    <tr>\n",
              "      <th>4</th>\n",
              "      <td>2013-07-04 04:00:00</td>\n",
              "      <td>69.283551</td>\n",
              "    </tr>\n",
              "  </tbody>\n",
              "</table>\n",
              "</div>"
            ],
            "text/plain": [
              "             timestamp      value\n",
              "0  2013-07-04 00:00:00  69.880835\n",
              "1  2013-07-04 01:00:00  71.220227\n",
              "2  2013-07-04 02:00:00  70.877805\n",
              "3  2013-07-04 03:00:00  68.959400\n",
              "4  2013-07-04 04:00:00  69.283551"
            ]
          },
          "metadata": {
            "tags": []
          },
          "execution_count": 5
        }
      ]
    },
    {
      "cell_type": "markdown",
      "metadata": {
        "id": "fxABz8cFOka2"
      },
      "source": [
        "It will be useful to change the timestamp to a date time datatype so we can use some of the unique features pandas has regaurding them. Once the data is plottes we can see that there are some fairly regular trends. IE the office is warmer in the winter where it is probobly colder outside and cooler in the summer months but there are some outliers."
      ]
    },
    {
      "cell_type": "code",
      "metadata": {
        "id": "QHWS3mI-DHUq",
        "outputId": "181ecde4-f57f-4b76-c446-22edde746354",
        "colab": {
          "base_uri": "https://localhost:8080/",
          "height": 294
        }
      },
      "source": [
        "# change the type of timestamp column for plotting\n",
        "df['timestamp'] = pd.to_datetime(df['timestamp'])\n",
        "# plot the data\n",
        "df.plot(x='timestamp', y='value')"
      ],
      "execution_count": 6,
      "outputs": [
        {
          "output_type": "execute_result",
          "data": {
            "text/plain": [
              "<matplotlib.axes._subplots.AxesSubplot at 0x7f992e334b00>"
            ]
          },
          "metadata": {
            "tags": []
          },
          "execution_count": 6
        },
        {
          "output_type": "display_data",
          "data": {
            "image/png": "[encoded data removed]",
            "text/plain": [
              "<Figure size 432x288 with 1 Axes>"
            ]
          },
          "metadata": {
            "tags": [],
            "needs_background": "light"
          }
        }
      ]
    },
    {
      "cell_type": "markdown",
      "metadata": {
        "id": "rMpRQhc3OyBk"
      },
      "source": [
        "The first feature engineered is going to be defining the daylight hours. Most likely there is less of a chance to have a temperature anommaly when there are employees present. I assumed that the day ran from 7:00am to 9:00pm that is about average ofer a year here in the midwest. I assumed that the seasonal daylight changes are less of an effect on the temperature than the effect of vairable temperature outside.  "
      ]
    },
    {
      "cell_type": "code",
      "metadata": {
        "id": "UsugNtvIDSY0"
      },
      "source": [
        "df['hours'] = df['timestamp'].dt.hour\n",
        "df['daylight'] = ((df['hours'] >= 8) & (df['hours'] <= 22)).astype(int)"
      ],
      "execution_count": 7,
      "outputs": []
    },
    {
      "cell_type": "markdown",
      "metadata": {
        "id": "F51Ts1OQQOzu"
      },
      "source": [
        "I also split the week up into work days and week days. Using this information I am operating on the assumption that there are less people working on the weekends "
      ]
    },
    {
      "cell_type": "code",
      "metadata": {
        "id": "-sRryM8pDUdm"
      },
      "source": [
        "# the day of the week (Monday=0, Sunday=6) and if it's a week end day or week day.\n",
        "df['Workdays'] = df['timestamp'].dt.dayofweek\n",
        "df['Weekday'] = (df['Workdays'] < 5).astype(int)\n",
        "# An estimation of anomly population of the dataset (necessary for several algorithm)\n",
        "outliers_fraction = 0.01"
      ],
      "execution_count": 30,
      "outputs": []
    },
    {
      "cell_type": "code",
      "metadata": {
        "id": "fqUhpH2fDWG1"
      },
      "source": [
        "# time with int to plot easily\n",
        "df['time_epoch'] = (df['timestamp'].astype(np.int64)/100000000000).astype(np.int64)"
      ],
      "execution_count": 31,
      "outputs": []
    },
    {
      "cell_type": "markdown",
      "metadata": {
        "id": "6J9i1HA1R_1W"
      },
      "source": [
        "Here we create 4 categories. Day and night combinations of weekdays and weekends. The idea here is it will be easier to see the temperature fluctuations for each of these features individually. "
      ]
    },
    {
      "cell_type": "code",
      "metadata": {
        "id": "oFAtWHItDYlV",
        "outputId": "28d14924-32a2-4238-c07a-74bd8838d3f7",
        "colab": {
          "base_uri": "https://localhost:8080/",
          "height": 295
        }
      },
      "source": [
        "# creation of 4 distinct categories that seem useful (week end/day week & night/day)\n",
        "df['categories'] = df['Weekday']*2 + df['daylight']\n",
        "\n",
        "a = df.loc[df['categories'] == 0, 'value']\n",
        "b = df.loc[df['categories'] == 1, 'value']\n",
        "c = df.loc[df['categories'] == 2, 'value']\n",
        "d = df.loc[df['categories'] == 3, 'value']\n",
        "\n",
        "fig, ax = plt.subplots()\n",
        "a_heights, a_bins = np.histogram(a)\n",
        "b_heights, b_bins = np.histogram(b, bins=a_bins)\n",
        "c_heights, c_bins = np.histogram(c, bins=a_bins)\n",
        "d_heights, d_bins = np.histogram(d, bins=a_bins)\n",
        "\n",
        "width = (a_bins[1] - a_bins[0])/6\n",
        "\n",
        "ax.bar(a_bins[:-1], a_heights*100/a.count(), width=width, facecolor='blue', label='WeekEndNight')\n",
        "ax.bar(b_bins[:-1]+width, (b_heights*100/b.count()), width=width, facecolor='green', label ='WeekEndLight')\n",
        "ax.bar(c_bins[:-1]+width*2, (c_heights*100/c.count()), width=width, facecolor='red', label ='WeekDayNight')\n",
        "ax.bar(d_bins[:-1]+width*3, (d_heights*100/d.count()), width=width, facecolor='black', label ='WeekDayLight')\n",
        "# Add title and axis names\n",
        "plt.title('Temperature counts for an office')\n",
        "plt.xlabel('Temperatures')\n",
        "plt.ylabel('Counts')\n",
        "\n",
        "plt.legend()\n",
        "plt.show()"
      ],
      "execution_count": 32,
      "outputs": [
        {
          "output_type": "display_data",
          "data": {
            "image/png": "[encoded data removed]",
            "text/plain": [
              "<Figure size 432x288 with 1 Axes>"
            ]
          },
          "metadata": {
            "tags": [],
            "needs_background": "light"
          }
        }
      ]
    },
    {
      "cell_type": "markdown",
      "metadata": {
        "id": "ECjrmtVzVMv_"
      },
      "source": [
        "In the above figure we can see that the highest counts for temperatures around the mean are during the weekday in the daylight hours and night hours. The hugh count of weekend light having a low temperature value is interesting and may be a trend showing that there are cooler working conditions on the weekend. "
      ]
    },
    {
      "cell_type": "markdown",
      "metadata": {
        "id": "ZhZpqHuBJcM4"
      },
      "source": [
        "# Isolation Forest"
      ]
    },
    {
      "cell_type": "markdown",
      "metadata": {
        "id": "6JHeCruXVzpv"
      },
      "source": [
        "We will begin assembling the methods for our annomally detection. The IsolationForest ‘isolates’ observations by randomly selecting a feature and then randomly selecting a split value between the maximum and minimum values of the selected feature. Random partitioning produces noticeably shorter paths for anomalies. Hence, when a forest of random trees collectively produce shorter path lengths for particular samples, they are highly likely to be anomalies. Enabling us to detect the anomalies and flag them as such."
      ]
    },
    {
      "cell_type": "code",
      "metadata": {
        "id": "uPACAF74J99Z",
        "outputId": "1fb77667-cf9f-4b1d-e76a-c810ec89d44d",
        "colab": {
          "base_uri": "https://localhost:8080/",
          "height": 68
        }
      },
      "source": [
        "# Take useful feature and standardize them \n",
        "data = df[['value', 'hours', 'daylight', 'Workdays', 'Weekday']]\n",
        "min_max_scaler = preprocessing.StandardScaler()\n",
        "np_scaled = min_max_scaler.fit_transform(data)\n",
        "data = pd.DataFrame(np_scaled)\n",
        "# train isolation forest \n",
        "model =  IsolationForest(contamination = outliers_fraction)\n",
        "model.fit(data)\n",
        "# add the data to the main  \n",
        "df['anomaly'] = pd.Series(model.predict(data))\n",
        "df['anomaly'] = df['anomaly'].map( {1: 0, -1: 1} )\n",
        "print(df['anomaly'].value_counts())"
      ],
      "execution_count": 33,
      "outputs": [
        {
          "output_type": "stream",
          "text": [
            "0    7194\n",
            "1      73\n",
            "Name: anomaly, dtype: int64\n"
          ],
          "name": "stdout"
        }
      ]
    },
    {
      "cell_type": "markdown",
      "metadata": {
        "id": "xsPUmjnOYgPQ"
      },
      "source": [
        "Below is a plot of the data vs time and we can see that the isolation forest did a good job at determining the highest and lowest fluctuations in the data. However maybe I chose too high of a percentage of outliers because there is a fair amount of points classified anomalied within a standard dievation of the mean. "
      ]
    },
    {
      "cell_type": "code",
      "metadata": {
        "id": "t4jsQyc3D0pY",
        "outputId": "75c4990e-57fa-4b68-c370-6fb0b584acde",
        "colab": {
          "base_uri": "https://localhost:8080/",
          "height": 278
        }
      },
      "source": [
        "# visualisation of anomaly throughout time (viz 1)\n",
        "fig, ax = plt.subplots()\n",
        "\n",
        "a = df.loc[df['anomaly'] == 1, ['time_epoch', 'value']] #anomaly\n",
        "\n",
        "ax.plot(df['time_epoch'], df['value'], color='grey')\n",
        "ax.scatter(a['time_epoch'],a['value'], color='blue')\n",
        "plt.show()"
      ],
      "execution_count": 34,
      "outputs": [
        {
          "output_type": "display_data",
          "data": {
            "image/png": "[encoded data removed]",
            "text/plain": [
              "<Figure size 432x288 with 1 Axes>"
            ]
          },
          "metadata": {
            "tags": [],
            "needs_background": "light"
          }
        }
      ]
    },
    {
      "cell_type": "code",
      "metadata": {
        "id": "3ohdIKEgD2B6",
        "outputId": "fa7cb1bd-7e7c-4b39-da64-9cebd66e4123",
        "colab": {
          "base_uri": "https://localhost:8080/",
          "height": 265
        }
      },
      "source": [
        "# visualisation of anomaly with temperature repartition (viz 2)\n",
        "a = df.loc[df['anomaly'] == 0, 'value']\n",
        "b = df.loc[df['anomaly'] == 1, 'value']\n",
        "\n",
        "fig, axs = plt.subplots()\n",
        "axs.hist([a,b], bins=25, stacked=True, color=['grey', 'blue'], label = ['normal', 'anomaly'])\n",
        "plt.legend()\n",
        "plt.show()"
      ],
      "execution_count": 37,
      "outputs": [
        {
          "output_type": "display_data",
          "data": {
            "image/png": "[encoded data removed]",
            "text/plain": [
              "<Figure size 432x288 with 1 Axes>"
            ]
          },
          "metadata": {
            "tags": [],
            "needs_background": "light"
          }
        }
      ]
    },
    {
      "cell_type": "markdown",
      "metadata": {
        "id": "g3GbXwDqb5R0"
      },
      "source": [
        "In the code below we explore normilizing the temperature with the average temperature with the idea that larger deviations will have larger/smaller values allowing for easier detection by the random forest."
      ]
    },
    {
      "cell_type": "code",
      "metadata": {
        "id": "fRrbkPbVZC-K"
      },
      "source": [
        "df['norm_T']=(df['value']-(df['value'].mean()))**2"
      ],
      "execution_count": 106,
      "outputs": []
    },
    {
      "cell_type": "code",
      "metadata": {
        "id": "z8PXs_4EZhQX",
        "outputId": "e480d42d-6327-4de2-8279-878f24790bcd",
        "colab": {
          "base_uri": "https://localhost:8080/",
          "height": 68
        }
      },
      "source": [
        "# Take useful feature and standardize them \n",
        "data = df[['norm_T', 'hours', 'daylight', 'Workdays', 'Weekday']]\n",
        "min_max_scaler = preprocessing.StandardScaler()\n",
        "np_scaled = min_max_scaler.fit_transform(data)\n",
        "data = pd.DataFrame(np_scaled)\n",
        "# train isolation forest \n",
        "model =  IsolationForest(contamination = outliers_fraction)\n",
        "model.fit(data)\n",
        "# add the data to the main  \n",
        "df['anomaly2'] = pd.Series(model.predict(data))\n",
        "df['anomaly2'] = df['anomaly2'].map( {1: 0, -1: 1} )\n",
        "print(df['anomaly2'].value_counts())"
      ],
      "execution_count": 107,
      "outputs": [
        {
          "output_type": "stream",
          "text": [
            "0    7194\n",
            "1      73\n",
            "Name: anomaly2, dtype: int64\n"
          ],
          "name": "stdout"
        }
      ]
    },
    {
      "cell_type": "markdown",
      "metadata": {
        "id": "jVb3R5DVcYEV"
      },
      "source": [
        "When we subtract the average temperature and square the result er get an intesting transformation of the graph showing all fluctuations as positive. Here we lo0ose the ability to determine the value of the dievation but we can see that there is no longer points located close to the mean. I think that this increased accuracy of anomally detection. There are a few places where several outlier points lie. Perhaps decreasing the number of points will give a clearer picture of the outliers but it has done well at seeing the largest anomalies."
      ]
    },
    {
      "cell_type": "code",
      "metadata": {
        "id": "tLw_yBxfZjFb",
        "outputId": "bb9b54be-d94a-4c15-b84e-f9ac0392f4cf",
        "colab": {
          "base_uri": "https://localhost:8080/",
          "height": 278
        }
      },
      "source": [
        "# visualisation of anomaly throughout time (viz 1)\n",
        "fig, ax = plt.subplots()\n",
        "\n",
        "a = df.loc[df['anomaly2'] == 1, ['time_epoch', 'norm_T']] #anomaly\n",
        "\n",
        "ax.plot(df['time_epoch'], df['norm_T'], color='grey')\n",
        "ax.scatter(a['time_epoch'],a['norm_T'], color='blue')\n",
        "plt.show()"
      ],
      "execution_count": 108,
      "outputs": [
        {
          "output_type": "display_data",
          "data": {
            "image/png": "[encoded data removed]",
            "text/plain": [
              "<Figure size 432x288 with 1 Axes>"
            ]
          },
          "metadata": {
            "tags": [],
            "needs_background": "light"
          }
        }
      ]
    },
    {
      "cell_type": "markdown",
      "metadata": {
        "id": "N5yIJLWoJQr-"
      },
      "source": [
        "# One Class SVM"
      ]
    },
    {
      "cell_type": "markdown",
      "metadata": {
        "id": "VB8pGRmad-zo"
      },
      "source": [
        "The next method is one class SVM. A One-Class Support Vector Machine is an unsupervised learning algorithm that is trained only on the ‘normal’ data. It learns the boundaries of these points and is therefore able to classify any points that lie outside the boundary as an outlier. We can use this to determine the temperatures that are seperate from our normal data."
      ]
    },
    {
      "cell_type": "code",
      "metadata": {
        "id": "6HQxQxsdFjXj",
        "outputId": "596e4014-90ae-44f4-a995-6a9b6f18ec14",
        "colab": {
          "base_uri": "https://localhost:8080/",
          "height": 68
        }
      },
      "source": [
        "# train one class SVM \n",
        "model =  OneClassSVM(nu=0.95 * outliers_fraction) #nu=0.95 * outliers_fraction  + 0.05\n",
        "data = pd.DataFrame(np_scaled)\n",
        "model.fit(data)\n",
        "# add the data to the main  \n",
        "df['anomaly26'] = pd.Series(model.predict(data))\n",
        "df['anomaly26'] = df['anomaly26'].map( {1: 0, -1: 1} )\n",
        "print(df['anomaly26'].value_counts())"
      ],
      "execution_count": 96,
      "outputs": [
        {
          "output_type": "stream",
          "text": [
            "0    7198\n",
            "1      69\n",
            "Name: anomaly26, dtype: int64\n"
          ],
          "name": "stdout"
        }
      ]
    },
    {
      "cell_type": "code",
      "metadata": {
        "id": "km4tTDg-INR0",
        "outputId": "bcf9dbfe-127a-4237-c6cb-c54b7f982d09",
        "colab": {
          "base_uri": "https://localhost:8080/",
          "height": 278
        }
      },
      "source": [
        "# visualisation of anomaly throughout time (viz 1)\n",
        "fig, ax = plt.subplots()\n",
        "\n",
        "a = df.loc[df['anomaly26'] == 1, ['time_epoch', 'value']] #anomaly\n",
        "\n",
        "ax.plot(df['time_epoch'], df['value'], color='grey')\n",
        "ax.scatter(a['time_epoch'],a['value'], color='blue')\n",
        "plt.show()"
      ],
      "execution_count": 97,
      "outputs": [
        {
          "output_type": "display_data",
          "data": {
            "image/png": "[encoded data removed]",
            "text/plain": [
              "<Figure size 432x288 with 1 Axes>"
            ]
          },
          "metadata": {
            "tags": [],
            "needs_background": "light"
          }
        }
      ]
    },
    {
      "cell_type": "code",
      "metadata": {
        "id": "hNz1ZJjVIODg",
        "outputId": "91d334d1-cdb3-464a-85df-8e5095c06c7e",
        "colab": {
          "base_uri": "https://localhost:8080/",
          "height": 265
        }
      },
      "source": [
        "#visualisation of anomaly with temperature repartition (viz 2)\n",
        "a = df.loc[df['anomaly26'] == 0, 'value']\n",
        "b = df.loc[df['anomaly26'] == 1, 'value']\n",
        "\n",
        "fig, axs = plt.subplots()\n",
        "axs.hist([a,b], bins=25, stacked=True, color=['grey', 'blue'], label=['normal', 'anomaly'])\n",
        "plt.legend()\n",
        "plt.show()"
      ],
      "execution_count": 84,
      "outputs": [
        {
          "output_type": "display_data",
          "data": {
            "image/png": "[encoded data removed]",
            "text/plain": [
              "<Figure size 432x288 with 1 Axes>"
            ]
          },
          "metadata": {
            "tags": [],
            "needs_background": "light"
          }
        }
      ]
    },
    {
      "cell_type": "markdown",
      "metadata": {
        "id": "sDcbq9g0fzfE"
      },
      "source": [
        "Overall the SVM didn't do as good of a job detecting outliers as the isolation forest did. This coulb be that the outlier data is too close to the normal data. We might need to magnify the chance of something beign an outlier or potentally have more data to have this work better. The nu value can be tweaked to find the optimum for detecting the specific outliers. Overall both of these methods were able to detect the major high temperature and low temperature variations so I am happy with the result. More feature engineerign on the normalized temperature could lead to even higher accuracy of the anomaly detection."
      ]
    }
  ]
}